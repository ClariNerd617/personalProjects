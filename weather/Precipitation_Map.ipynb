{
 "cells": [
  {
   "cell_type": "code",
   "execution_count": 1,
   "metadata": {},
   "outputs": [],
   "source": [
    "%matplotlib inline"
   ]
  },
  {
   "cell_type": "markdown",
   "metadata": {},
   "source": [
    "\n",
    "# NWS Precipitation Map\n",
    "\n",
    "\n",
    "Plot a 1-day precipitation map using a netCDF file from the National Weather Service.\n",
    "\n",
    "This opens the data directly in memory using the support in the netCDF library to open\n",
    "from an existing memory buffer. In addition to CartoPy and Matplotlib, this uses\n",
    "a custom colortable as well as MetPy's unit support.\n"
   ]
  },
  {
   "cell_type": "markdown",
   "metadata": {},
   "source": [
    "Imports\n",
    "\n"
   ]
  },
  {
   "cell_type": "code",
   "execution_count": 2,
   "metadata": {},
   "outputs": [],
   "source": [
    "from datetime import datetime, timedelta\n",
    "from urllib.request import urlopen\n",
    "\n",
    "import cartopy.crs as ccrs\n",
    "import cartopy.feature as cfeature\n",
    "import matplotlib.colors as mcolors\n",
    "import matplotlib.pyplot as plt\n",
    "from metpy.units import masked_array, units\n",
    "from netCDF4 import Dataset"
   ]
  },
  {
   "cell_type": "markdown",
   "metadata": {},
   "source": [
    "Download the data from the National Weather Service.\n",
    "\n"
   ]
  },
  {
   "cell_type": "code",
   "execution_count": 3,
   "metadata": {},
   "outputs": [],
   "source": [
    "dt = datetime.utcnow() - timedelta(days=1)  # This should always be available\n",
    "url = 'http://water.weather.gov/precip/downloads/{dt:%Y/%m/%d}/nws_precip_1day_'\\\n",
    "      '{dt:%Y%m%d}_conus.nc'.format(dt=dt)\n",
    "data = urlopen(url).read()\n",
    "nc = Dataset('', memory=data)"
   ]
  },
  {
   "cell_type": "markdown",
   "metadata": {},
   "source": [
    "Pull the needed information out of the netCDF file\n",
    "\n"
   ]
  },
  {
   "cell_type": "code",
   "execution_count": 4,
   "metadata": {},
   "outputs": [
    {
     "name": "stderr",
     "output_type": "stream",
     "text": [
      "/home/clarinerd/anaconda3/lib/python3.6/site-packages/numpy/ma/core.py:1018: RuntimeWarning: overflow encountered in multiply\n",
      "  result = self.f(da, db, *args, **kwargs)\n"
     ]
    }
   ],
   "source": [
    "prcpvar = nc.variables['observation']\n",
    "data = masked_array(prcpvar[:], units(prcpvar.units.lower())).to('mm')\n",
    "x = nc.variables['x'][:]\n",
    "y = nc.variables['y'][:]\n",
    "proj_var = nc.variables[prcpvar.grid_mapping]"
   ]
  },
  {
   "cell_type": "markdown",
   "metadata": {},
   "source": [
    "Set up the projection information within CartoPy\n",
    "\n"
   ]
  },
  {
   "cell_type": "code",
   "execution_count": 5,
   "metadata": {},
   "outputs": [],
   "source": [
    "globe = ccrs.Globe(semimajor_axis=proj_var.earth_radius)\n",
    "proj = ccrs.Stereographic(central_latitude=90.0,\n",
    "                          central_longitude=proj_var.straight_vertical_longitude_from_pole,\n",
    "                          true_scale_latitude=proj_var.standard_parallel, globe=globe)"
   ]
  },
  {
   "cell_type": "markdown",
   "metadata": {},
   "source": [
    "Create the figure and plot the data\n",
    "create figure and axes instances\n",
    "\n"
   ]
  },
  {
   "cell_type": "code",
   "execution_count": 6,
   "metadata": {},
   "outputs": [
    {
     "ename": "NameError",
     "evalue": "name 'fig' is not defined",
     "output_type": "error",
     "traceback": [
      "\u001b[0;31m---------------------------------------------------------------------------\u001b[0m",
      "\u001b[0;31mNameError\u001b[0m                                 Traceback (most recent call last)",
      "\u001b[0;32m<ipython-input-6-03ebf615233f>\u001b[0m in \u001b[0;36m<module>\u001b[0;34m\u001b[0m\n\u001b[1;32m      1\u001b[0m \u001b[0;31m# fig = plt.figure(figsize=(8, 8))\u001b[0m\u001b[0;34m\u001b[0m\u001b[0;34m\u001b[0m\u001b[0;34m\u001b[0m\u001b[0m\n\u001b[0;32m----> 2\u001b[0;31m \u001b[0max\u001b[0m \u001b[0;34m=\u001b[0m \u001b[0mfig\u001b[0m\u001b[0;34m.\u001b[0m\u001b[0madd_subplot\u001b[0m\u001b[0;34m(\u001b[0m\u001b[0;36m1\u001b[0m\u001b[0;34m,\u001b[0m \u001b[0;36m1\u001b[0m\u001b[0;34m,\u001b[0m \u001b[0;36m1\u001b[0m\u001b[0;34m,\u001b[0m \u001b[0mprojection\u001b[0m\u001b[0;34m=\u001b[0m\u001b[0mproj\u001b[0m\u001b[0;34m)\u001b[0m\u001b[0;34m\u001b[0m\u001b[0;34m\u001b[0m\u001b[0m\n\u001b[0m\u001b[1;32m      3\u001b[0m \u001b[0;34m\u001b[0m\u001b[0m\n\u001b[1;32m      4\u001b[0m \u001b[0;31m# draw coastlines, state and country boundaries, edge of map.\u001b[0m\u001b[0;34m\u001b[0m\u001b[0;34m\u001b[0m\u001b[0;34m\u001b[0m\u001b[0m\n\u001b[1;32m      5\u001b[0m \u001b[0max\u001b[0m\u001b[0;34m.\u001b[0m\u001b[0mcoastlines\u001b[0m\u001b[0;34m(\u001b[0m\u001b[0;34m)\u001b[0m\u001b[0;34m\u001b[0m\u001b[0;34m\u001b[0m\u001b[0m\n",
      "\u001b[0;31mNameError\u001b[0m: name 'fig' is not defined"
     ]
    }
   ],
   "source": [
    "# fig = plt.figure(figsize=(8, 8))\n",
    "ax = fig.add_subplot(1, 1, 1, projection=proj)\n",
    "\n",
    "# draw coastlines, state and country boundaries, edge of map.\n",
    "ax.coastlines()\n",
    "ax.add_feature(cfeature.BORDERS)\n",
    "ax.add_feature(cfeature.STATES)\n",
    "\n",
    "# draw filled contours.\n",
    "clevs = [0, 1, 2.5, 5, 7.5, 10, 15, 20, 30, 40,\n",
    "         50, 70, 100, 150, 200, 250, 300, 400, 500, 600, 750]\n",
    "# In future MetPy\n",
    "# norm, cmap = ctables.registry.get_with_boundaries('precipitation', clevs)\n",
    "cmap_data = [(1.0, 1.0, 1.0),\n",
    "             (0.3137255012989044, 0.8156862854957581, 0.8156862854957581),\n",
    "             (0.0, 1.0, 1.0),\n",
    "             (0.0, 0.8784313797950745, 0.501960813999176),\n",
    "             (0.0, 0.7529411911964417, 0.0),\n",
    "             (0.501960813999176, 0.8784313797950745, 0.0),\n",
    "             (1.0, 1.0, 0.0),\n",
    "             (1.0, 0.6274510025978088, 0.0),\n",
    "             (1.0, 0.0, 0.0),\n",
    "             (1.0, 0.125490203499794, 0.501960813999176),\n",
    "             (0.9411764740943909, 0.250980406999588, 1.0),\n",
    "             (0.501960813999176, 0.125490203499794, 1.0),\n",
    "             (0.250980406999588, 0.250980406999588, 1.0),\n",
    "             (0.125490203499794, 0.125490203499794, 0.501960813999176),\n",
    "             (0.125490203499794, 0.125490203499794, 0.125490203499794),\n",
    "             (0.501960813999176, 0.501960813999176, 0.501960813999176),\n",
    "             (0.8784313797950745, 0.8784313797950745, 0.8784313797950745),\n",
    "             (0.9333333373069763, 0.8313725590705872, 0.7372549176216125),\n",
    "             (0.8549019694328308, 0.6509804129600525, 0.47058823704719543),\n",
    "             (0.6274510025978088, 0.42352941632270813, 0.23529411852359772),\n",
    "             (0.4000000059604645, 0.20000000298023224, 0.0)]\n",
    "cmap = mcolors.ListedColormap(cmap_data, 'precipitation')\n",
    "norm = mcolors.BoundaryNorm(clevs, cmap.N)\n",
    "\n",
    "cs = ax.contourf(x, y, data, clevs, cmap=cmap, norm=norm)\n",
    "\n",
    "# add colorbar.\n",
    "cbar = plt.colorbar(cs, orientation='horizontal')\n",
    "cbar.set_label(data.units)\n",
    "\n",
    "ax.set_title(prcpvar.long_name + ' for period ending ' + nc.creation_time)\n",
    "plt.show()"
   ]
  },
  {
   "cell_type": "code",
   "execution_count": null,
   "metadata": {},
   "outputs": [],
   "source": []
  },
  {
   "cell_type": "code",
   "execution_count": null,
   "metadata": {},
   "outputs": [],
   "source": []
  }
 ],
 "metadata": {
  "kernelspec": {
   "display_name": "Python 3",
   "language": "python",
   "name": "python3"
  },
  "language_info": {
   "codemirror_mode": {
    "name": "ipython",
    "version": 3
   },
   "file_extension": ".py",
   "mimetype": "text/x-python",
   "name": "python",
   "nbconvert_exporter": "python",
   "pygments_lexer": "ipython3",
   "version": "3.6.7"
  }
 },
 "nbformat": 4,
 "nbformat_minor": 1
}
